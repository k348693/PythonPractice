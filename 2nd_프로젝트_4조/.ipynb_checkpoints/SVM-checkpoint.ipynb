{
 "cells": [
  {
   "cell_type": "code",
   "execution_count": null,
   "id": "ef635460-815d-4931-a7b0-7973d05c1187",
   "metadata": {},
   "outputs": [],
   "source": [
    "## 데이터 스플릿\n",
    "\n",
    "from sklearn.model_selection import train_test_split\n",
    "X = df.drop([\"churn\"], axis=1)\n",
    "y = df[\"churn\"]\n",
    "X_train, X_test, y_train, y_test = train_test_split(X, y, test_size=0.25, stratify=y, random_state=0)"
   ]
  },
  {
   "cell_type": "code",
   "execution_count": null,
   "id": "30e7089b-363e-4395-abfe-95bd91c7f92f",
   "metadata": {},
   "outputs": [],
   "source": [
    "## Linear SVC\n",
    "\n",
    "from sklearn.svm import SVC\n",
    "from sklearn.metrics import accuracy_score\n",
    "\n",
    "# Linear SVM - 규제 hyper parameter: C\n",
    "## 작을 수록 규제 강도가 큼.\n",
    "C_list = [1] # 0 초과의 값을 지정. 실수. default: 1        [0.001, 0.01, 0.1, 1, 10, 100]  시간이 너무오래걸려서 하나만 해봄\n",
    "train_acc_list = []\n",
    "test_acc_list = []\n",
    "\n",
    "for C in C_list:\n",
    "    svm = SVC(\n",
    "        kernel=\"linear\", # 커널 함수 지정. 선형SVM: linear, 비선형SVM: rbf(기본), poly, sigmoid\n",
    "        C=C,             # soft - hard margin 설정. (작을수록 강한 규제)\n",
    "        random_state=0\n",
    "    )\n",
    "    # 학습\n",
    "    svm.fit(X_train, y_train)\n",
    "    # 검증\n",
    "    ## 추론\n",
    "    pred_train = svm.predict(X_train)\n",
    "    pred_test = svm.predict(X_test)\n",
    "    ## 평가\n",
    "    train_acc_list.append(accuracy_score(y_train, pred_train))\n",
    "    test_acc_list.append(accuracy_score(y_test, pred_test))"
   ]
  },
  {
   "cell_type": "code",
   "execution_count": null,
   "id": "9d94ea82-c2be-4183-afc0-6ee18d9f3e9f",
   "metadata": {},
   "outputs": [],
   "source": [
    "import pandas as pd\n",
    "import numpy as np\n",
    "df = pd.DataFrame({\n",
    "    \"C\":np.log10(C_list),\n",
    "    # \"C\": C_list,\n",
    "    \"Train\": train_acc_list,\n",
    "    \"Test\": test_acc_list\n",
    "})\n",
    "df.set_index(\"C\")"
   ]
  },
  {
   "cell_type": "code",
   "execution_count": null,
   "id": "b4637d27-eb30-467a-a5fb-75e11bbe9b78",
   "metadata": {},
   "outputs": [],
   "source": [
    "df.set_index(\"C\").plot();"
   ]
  },
  {
   "cell_type": "code",
   "execution_count": null,
   "id": "3e4105bb-3a56-4d3a-bb8c-1fbc0887e215",
   "metadata": {},
   "outputs": [],
   "source": []
  }
 ],
 "metadata": {
  "kernelspec": {
   "display_name": "Python 3 (ipykernel)",
   "language": "python",
   "name": "python3"
  },
  "language_info": {
   "codemirror_mode": {
    "name": "ipython",
    "version": 3
   },
   "file_extension": ".py",
   "mimetype": "text/x-python",
   "name": "python",
   "nbconvert_exporter": "python",
   "pygments_lexer": "ipython3",
   "version": "3.12.7"
  }
 },
 "nbformat": 4,
 "nbformat_minor": 5
}
