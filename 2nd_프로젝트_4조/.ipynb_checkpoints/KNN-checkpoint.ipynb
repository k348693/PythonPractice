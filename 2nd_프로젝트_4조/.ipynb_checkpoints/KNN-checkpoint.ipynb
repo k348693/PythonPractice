{
 "cells": [
  {
   "cell_type": "code",
   "execution_count": null,
   "id": "f1267248-d3b1-497e-97b8-c7c024aa52d4",
   "metadata": {},
   "outputs": [],
   "source": [
    "## KNN\n",
    "\n",
    "from sklearn.neighbors import KNeighborsClassifier\n",
    "from sklearn.metrics import accuracy_score\n",
    "\n",
    "k_list = range(1, 11)                        # range(1, 11)  시간이 오래걸령\n",
    "train_acc_list, test_acc_list = [], []\n",
    "\n",
    "for k in k_list:\n",
    "    # k값 넣어서 모델 생성 \n",
    "    knn = KNeighborsClassifier(n_neighbors=k)\n",
    "    # 학습\n",
    "    knn.fit(X_train, y_train)\n",
    "    # 검증 -> 검증결과 LIST에 추가.\n",
    "    train_acc_list.append(accuracy_score(y_train, knn.predict(X_train)))\n",
    "    test_acc_list.append(accuracy_score(y_test, knn.predict(X_test)))"
   ]
  },
  {
   "cell_type": "code",
   "execution_count": null,
   "id": "ccf1d0de-1688-469c-9686-db05be14a408",
   "metadata": {},
   "outputs": [],
   "source": [
    "import pandas as pd\n",
    "df = pd.DataFrame({\n",
    "    \"train\":train_acc_list,\n",
    "    \"test\":test_acc_list\n",
    "}, index=k_list)\n",
    "df.rename_axis(index=\"K\", columns=\"Dataset\", inplace=True)\n",
    "df"
   ]
  },
  {
   "cell_type": "code",
   "execution_count": null,
   "id": "508b7d59-d0a5-41d0-bf10-e1aa38ad1056",
   "metadata": {},
   "outputs": [],
   "source": [
    "df.plot();"
   ]
  }
 ],
 "metadata": {
  "kernelspec": {
   "display_name": "Python 3 (ipykernel)",
   "language": "python",
   "name": "python3"
  },
  "language_info": {
   "codemirror_mode": {
    "name": "ipython",
    "version": 3
   },
   "file_extension": ".py",
   "mimetype": "text/x-python",
   "name": "python",
   "nbconvert_exporter": "python",
   "pygments_lexer": "ipython3",
   "version": "3.12.7"
  }
 },
 "nbformat": 4,
 "nbformat_minor": 5
}
