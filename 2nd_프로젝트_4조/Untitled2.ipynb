{
 "cells": [
  {
   "cell_type": "code",
   "execution_count": null,
   "id": "c522447f-4d07-45cc-8a80-8d5f23b35cc1",
   "metadata": {},
   "outputs": [],
   "source": [
    "\"customer_age\",\"gender\",\"dependent_count\",\"education_level\",\"months_on_book\",\"total_relationship_count\",\"months_inactive_12_mon\",\n",
    "\"contacts_count_12_mon\",\"credit_limit\",\"total_revolving_bal\",\"avg_open_to_buy\",\"total_amt_chng_q4_q1\",\"total_trans_amt\",\"total_trans_ct\",\"total_ct_chng_q4_q1\",\n",
    "\"avg_utilization_ratio\",\n",
    "\"marital_status_Married\",\"marital_status_Single\",\"card_category_Gold\",\"card_category_Platinum\",\"card_category_Silver\",\n",
    "income_category_$40K - $60K,income_category_$60K - $80K,income_category_$80K - $120K,income_category_Less than $40K\n"
   ]
  }
 ],
 "metadata": {
  "kernelspec": {
   "display_name": "Python 3 (ipykernel)",
   "language": "python",
   "name": "python3"
  },
  "language_info": {
   "codemirror_mode": {
    "name": "ipython",
    "version": 3
   },
   "file_extension": ".py",
   "mimetype": "text/x-python",
   "name": "python",
   "nbconvert_exporter": "python",
   "pygments_lexer": "ipython3",
   "version": "3.12.7"
  }
 },
 "nbformat": 4,
 "nbformat_minor": 5
}
